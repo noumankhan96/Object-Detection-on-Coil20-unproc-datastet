{
 "cells": [
  {
   "cell_type": "code",
   "execution_count": 5,
   "metadata": {},
   "outputs": [
    {
     "data": {
      "text/plain": [
       "'2.2.4'"
      ]
     },
     "execution_count": 5,
     "metadata": {},
     "output_type": "execute_result"
    }
   ],
   "source": [
    "import keras\n",
    "keras.__version__"
   ]
  },
  {
   "cell_type": "code",
   "execution_count": 8,
   "metadata": {},
   "outputs": [
    {
     "name": "stdout",
     "output_type": "stream",
     "text": [
      "C:\\Users\\Nouman Khan\n"
     ]
    }
   ],
   "source": [
    "import os\n",
    "\n",
    "print(os.getcwd())\n",
    "\n",
    "original_dataset_dir='C:/Users/Nouman Khan/coil-20-unproc'"
   ]
  },
  {
   "cell_type": "code",
   "execution_count": 9,
   "metadata": {},
   "outputs": [],
   "source": [
    "import os, shutil\n",
    "\n",
    "original_dataset_dir = 'C:/Users/Nouman Khan/coil-20-unproc'\n",
    "\n",
    "base_dir = 'C:/Users/Nouman Khan/coil-20-unproc/prepared'\n",
    "\n",
    "if (not(os.path.exists(base_dir))):\n",
    "    os.mkdir(base_dir)\n",
    "\n",
    "train_dir = os.path.join(base_dir, 'train')\n",
    "os.mkdir(train_dir)\n",
    "validation_dir = os.path.join(base_dir, 'validation')\n",
    "os.mkdir(validation_dir)\n",
    "test_dir = os.path.join(base_dir, 'test')\n",
    "os.mkdir(test_dir)\n",
    "\n",
    "# Directory with our training obj1 pictures\n",
    "train_obj1_dir = os.path.join(train_dir, 'obj1')\n",
    "os.mkdir(train_obj1_dir)\n",
    "\n",
    "# Directory with our training obj2 pictures\n",
    "train_obj2_dir = os.path.join(train_dir, 'obj2')\n",
    "os.mkdir(train_obj2_dir)\n",
    "\n",
    "# Directory with our training obj3 pictures\n",
    "train_obj3_dir = os.path.join(train_dir, 'obj3')\n",
    "os.mkdir(train_obj3_dir)\n",
    "\n",
    "# Directory with our training obj4 pictures\n",
    "train_obj4_dir = os.path.join(train_dir, 'obj4')\n",
    "os.mkdir(train_obj4_dir)\n",
    "\n",
    "# Directory with our training obj5 pictures\n",
    "train_obj5_dir = os.path.join(train_dir, 'obj5')\n",
    "os.mkdir(train_obj5_dir)\n",
    "\n",
    "\n",
    "# Directory with our validation obj1 pictures\n",
    "validation_obj1_dir = os.path.join(validation_dir, 'obj1')\n",
    "os.mkdir(validation_obj1_dir)\n",
    "\n",
    "# Directory with our validation obj2 pictures\n",
    "validation_obj2_dir = os.path.join(validation_dir, 'obj2')\n",
    "os.mkdir(validation_obj2_dir)\n",
    "\n",
    "# Directory with our validation obj3 pictures\n",
    "validation_obj3_dir = os.path.join(validation_dir, 'obj3')\n",
    "os.mkdir(validation_obj3_dir)\n",
    "\n",
    "# Directory with our validation obj4 pictures\n",
    "validation_obj4_dir = os.path.join(validation_dir, 'obj4')\n",
    "os.mkdir(validation_obj4_dir)\n",
    "\n",
    "# Directory with our validation obj5 pictures\n",
    "validation_obj5_dir = os.path.join(validation_dir, 'obj5')\n",
    "os.mkdir(validation_obj5_dir)\n",
    "\n",
    "\n",
    "\n",
    "# Directory with our test obj1 pictures\n",
    "test_obj1_dir = os.path.join(test_dir, 'obj1')\n",
    "os.mkdir(test_obj1_dir)\n",
    "\n",
    "# Directory with our test obj1 pictures\n",
    "test_obj2_dir = os.path.join(test_dir, 'obj2')\n",
    "os.mkdir(test_obj2_dir)\n",
    "\n",
    "# Directory with our test obj3 pictures\n",
    "test_obj3_dir = os.path.join(test_dir, 'obj3')\n",
    "os.mkdir(test_obj3_dir)\n",
    "\n",
    "# Directory with our test obj4 pictures\n",
    "test_obj4_dir = os.path.join(test_dir, 'obj4')\n",
    "os.mkdir(test_obj4_dir)\n",
    "\n",
    "# Directory with our test obj5 pictures\n",
    "test_obj5_dir = os.path.join(test_dir, 'obj5')\n",
    "os.mkdir(test_obj5_dir)"
   ]
  },
  {
   "cell_type": "code",
   "execution_count": 10,
   "metadata": {},
   "outputs": [],
   "source": [
    "fnames = ['obj1__{}.png'.format(i) for i in range(71)]\n",
    "from skimage import color\n",
    "from skimage import io\n"
   ]
  },
  {
   "cell_type": "code",
   "execution_count": 11,
   "metadata": {},
   "outputs": [
    {
     "name": "stdout",
     "output_type": "stream",
     "text": [
      "Obj1 (Train/Test) Completed.\n",
      "Obj2 (Train/Test) Completed.\n",
      "Obj3 (Train/Test) Completed.\n",
      "Obj4 (Train/Test) Completed.\n",
      "Obj5 (Train/Test) Completed.\n"
     ]
    }
   ],
   "source": [
    "# Copy first 40 obj1 images to train_obj1_dir\n",
    "\n",
    "fnames = ['obj1__{}.png'.format(i) for i in range(40)]\n",
    "for fname in fnames:\n",
    "    src = os.path.join(original_dataset_dir, fname)\n",
    "    dst = os.path.join(train_obj1_dir, fname)\n",
    "    shutil.copyfile(src, dst)\n",
    "\n",
    "    \n",
    "# Copy next 15 obj1 images to validation_obj1_dir\n",
    "fnames = ['obj1__{}.png'.format(i) for i in range(40, 55)]\n",
    "for fname in fnames:\n",
    "    src = os.path.join(original_dataset_dir, fname)\n",
    "    dst = os.path.join(validation_obj1_dir, fname)\n",
    "    shutil.copyfile(src, dst)\n",
    "    \n",
    "# Copy next 15 obj1 images to test_obj1_dir\n",
    "fnames = ['obj1__{}.png'.format(i) for i in range(55, 71)]\n",
    "for fname in fnames:\n",
    "    src = os.path.join(original_dataset_dir, fname)\n",
    "    dst = os.path.join(test_obj1_dir, fname)\n",
    "    shutil.copyfile(src, dst)\n",
    "\n",
    "print(\"Obj1 (Train/Test) Completed.\")\n",
    "\n",
    "\n",
    "\n",
    "\n",
    "\n",
    "\n",
    "# Copy first 40 obj2 images to train_obj2_dir\n",
    "fnames = ['obj2__{}.png'.format(i) for i in range(40)]\n",
    "for fname in fnames:\n",
    "    src = os.path.join(original_dataset_dir, fname)\n",
    "    dst = os.path.join(train_obj2_dir, fname)\n",
    "    shutil.copyfile(src, dst)\n",
    "\n",
    "    \n",
    "# Copy next 15 obj2 images to validation_obj2_dir\n",
    "fnames = ['obj2__{}.png'.format(i) for i in range(40, 55)]\n",
    "for fname in fnames:\n",
    "    src = os.path.join(original_dataset_dir, fname)\n",
    "    dst = os.path.join(validation_obj2_dir, fname)\n",
    "    shutil.copyfile(src, dst)\n",
    "    \n",
    "# Copy next 15 obj2 images to test_obj2_dir\n",
    "fnames = ['obj2__{}.png'.format(i) for i in range(55, 71)]\n",
    "for fname in fnames:\n",
    "    src = os.path.join(original_dataset_dir, fname)\n",
    "    dst = os.path.join(test_obj2_dir, fname)\n",
    "    shutil.copyfile(src, dst)\n",
    "\n",
    "print(\"Obj2 (Train/Test) Completed.\")\n",
    "\n",
    "\n",
    "\n",
    "\n",
    "\n",
    "\n",
    "# Copy first 40 obj3 images to train_obj3_dir\n",
    "fnames = ['obj3__{}.png'.format(i) for i in range(40)]\n",
    "for fname in fnames:\n",
    "    src = os.path.join(original_dataset_dir, fname)\n",
    "    dst = os.path.join(train_obj3_dir, fname)\n",
    "    shutil.copyfile(src, dst)\n",
    "\n",
    "    \n",
    "# Copy next 15 obj3 images to validation_obj3_dir\n",
    "fnames = ['obj3__{}.png'.format(i) for i in range(40, 55)]\n",
    "for fname in fnames:\n",
    "    src = os.path.join(original_dataset_dir, fname)\n",
    "    dst = os.path.join(validation_obj3_dir, fname)\n",
    "    shutil.copyfile(src, dst)\n",
    "    \n",
    "# Copy next 15 obj3 images to test_obj3_dir\n",
    "fnames = ['obj3__{}.png'.format(i) for i in range(55, 71)]\n",
    "for fname in fnames:\n",
    "    src = os.path.join(original_dataset_dir, fname)\n",
    "    dst = os.path.join(test_obj3_dir, fname)\n",
    "    shutil.copyfile(src, dst)\n",
    "\n",
    "print(\"Obj3 (Train/Test) Completed.\")\n",
    "\n",
    "\n",
    "\n",
    "\n",
    "\n",
    "# Copy first 40 obj4 images to train_obj4_dir\n",
    "fnames = ['obj4__{}.png'.format(i) for i in range(40)]\n",
    "for fname in fnames:\n",
    "    src = os.path.join(original_dataset_dir, fname)\n",
    "    dst = os.path.join(train_obj4_dir, fname)\n",
    "    shutil.copyfile(src, dst)\n",
    "\n",
    "    \n",
    "# Copy next 15 obj4 images to validation_obj4_dir\n",
    "fnames = ['obj4__{}.png'.format(i) for i in range(40, 55)]\n",
    "for fname in fnames:\n",
    "    src = os.path.join(original_dataset_dir, fname)\n",
    "    dst = os.path.join(validation_obj4_dir, fname)\n",
    "    shutil.copyfile(src, dst)\n",
    "    \n",
    "# Copy next 15 obj4 images to test_obj4_dir\n",
    "fnames = ['obj4__{}.png'.format(i) for i in range(55, 71)]\n",
    "for fname in fnames:\n",
    "    src = os.path.join(original_dataset_dir, fname)\n",
    "    dst = os.path.join(test_obj4_dir, fname)\n",
    "    shutil.copyfile(src, dst)\n",
    "\n",
    "print(\"Obj4 (Train/Test) Completed.\")\n",
    "\n",
    "\n",
    "\n",
    "\n",
    "\n",
    "\n",
    "\n",
    "\n",
    "# Copy first 40 obj5 images to train_obj5_dir\n",
    "fnames = ['obj5__{}.png'.format(i) for i in range(40)]\n",
    "for fname in fnames:\n",
    "    src = os.path.join(original_dataset_dir, fname)\n",
    "    dst = os.path.join(train_obj5_dir, fname)\n",
    "    shutil.copyfile(src, dst)\n",
    "\n",
    "    \n",
    "# Copy next 15 obj5 images to validation_obj5_dir\n",
    "fnames = ['obj5__{}.png'.format(i) for i in range(40, 55)]\n",
    "for fname in fnames:\n",
    "    src = os.path.join(original_dataset_dir, fname)\n",
    "    dst = os.path.join(validation_obj5_dir, fname)\n",
    "    shutil.copyfile(src, dst)\n",
    "    \n",
    "# Copy next 15 obj5 images to test_obj5_dir\n",
    "fnames = ['obj5__{}.png'.format(i) for i in range(55, 71)]\n",
    "for fname in fnames:\n",
    "    src = os.path.join(original_dataset_dir, fname)\n",
    "    dst = os.path.join(test_obj5_dir, fname)\n",
    "    shutil.copyfile(src, dst)\n",
    "\n",
    "print(\"Obj5 (Train/Test) Completed.\")"
   ]
  },
  {
   "cell_type": "markdown",
   "metadata": {},
   "source": [
    "As a sanity check, let's count how many pictures we have in each training split (train/validation/test):"
   ]
  },
  {
   "cell_type": "code",
   "execution_count": 12,
   "metadata": {},
   "outputs": [
    {
     "name": "stdout",
     "output_type": "stream",
     "text": [
      "total training obj1 images: 40\n"
     ]
    }
   ],
   "source": [
    "print('total training obj1 images:', len(os.listdir(train_obj1_dir)))"
   ]
  },
  {
   "cell_type": "code",
   "execution_count": 13,
   "metadata": {},
   "outputs": [
    {
     "name": "stdout",
     "output_type": "stream",
     "text": [
      "total training obj2 images: 40\n"
     ]
    }
   ],
   "source": [
    "print('total training obj2 images:', len(os.listdir(train_obj2_dir)))"
   ]
  },
  {
   "cell_type": "code",
   "execution_count": 14,
   "metadata": {},
   "outputs": [
    {
     "name": "stdout",
     "output_type": "stream",
     "text": [
      "total validation obj1 images: 15\n"
     ]
    }
   ],
   "source": [
    "print('total validation obj1 images:', len(os.listdir(validation_obj1_dir)))"
   ]
  },
  {
   "cell_type": "code",
   "execution_count": 15,
   "metadata": {},
   "outputs": [
    {
     "name": "stdout",
     "output_type": "stream",
     "text": [
      "total validation obj2 images: 15\n"
     ]
    }
   ],
   "source": [
    "print('total validation obj2 images:', len(os.listdir(validation_obj2_dir)))"
   ]
  },
  {
   "cell_type": "code",
   "execution_count": 16,
   "metadata": {},
   "outputs": [
    {
     "name": "stdout",
     "output_type": "stream",
     "text": [
      "total test obj1 images: 16\n"
     ]
    }
   ],
   "source": [
    "print('total test obj1 images:', len(os.listdir(test_obj1_dir)))"
   ]
  },
  {
   "cell_type": "code",
   "execution_count": 17,
   "metadata": {},
   "outputs": [
    {
     "name": "stdout",
     "output_type": "stream",
     "text": [
      "total test obj2 images: 16\n"
     ]
    }
   ],
   "source": [
    "print('total test obj2 images:', len(os.listdir(test_obj2_dir)))"
   ]
  },
  {
   "cell_type": "markdown",
   "metadata": {},
   "source": [
    "\n",
    "So we have indeed 40  training images per object,15 test images per object  and then 15 validation images per object. In each split, there is the same number of \n",
    "samples from each class: this is a balanced binary classification problem, which means that classification accuracy will be an appropriate \n",
    "measure of success."
   ]
  },
  {
   "cell_type": "markdown",
   "metadata": {},
   "source": [
    "## Building our network\n",
    "\n",
    "We've already built a small convnet for MNIST in the previous example, so you should be familiar with them. We will reuse the same \n",
    "general structure: our convnet will be a stack of alternated `Conv2D` (with `relu` activation) and `MaxPooling2D` layers.\n",
    "\n",
    "However, since we are dealing with bigger images and a more complex problem, we will make our network accordingly larger: it will have one \n",
    "more `Conv2D` + `MaxPooling2D` stage. This serves both to augment the capacity of the network, and to further reduce the size of the \n",
    "feature maps, so that they aren't overly large when we reach the `Flatten` layer. Here, since we start from inputs of size 150x150 (a \n",
    "somewhat arbitrary choice), we end up with feature maps of size 7x7 right before the `Flatten` layer.\n",
    "\n",
    "Note that the depth of the feature maps is progressively increasing in the network (from 32 to 128), while the size of the feature maps is \n",
    "decreasing (from 148x148 to 7x7). This is a pattern that you will see in almost all convnets.\n",
    "\n",
    "Since we are attacking a binary classification problem, we are ending the network with a single unit (a `Dense` layer of size 1) and a \n",
    "`sigmoid` activation. This unit will encode the probability that the network is looking at one class or the other."
   ]
  },
  {
   "cell_type": "code",
   "execution_count": 18,
   "metadata": {},
   "outputs": [
    {
     "name": "stdout",
     "output_type": "stream",
     "text": [
      "WARNING:tensorflow:From C:\\Users\\Nouman Khan\\.conda\\envs\\DataScience\\lib\\site-packages\\keras\\backend\\tensorflow_backend.py:74: The name tf.get_default_graph is deprecated. Please use tf.compat.v1.get_default_graph instead.\n",
      "\n",
      "WARNING:tensorflow:From C:\\Users\\Nouman Khan\\.conda\\envs\\DataScience\\lib\\site-packages\\keras\\backend\\tensorflow_backend.py:517: The name tf.placeholder is deprecated. Please use tf.compat.v1.placeholder instead.\n",
      "\n",
      "WARNING:tensorflow:From C:\\Users\\Nouman Khan\\.conda\\envs\\DataScience\\lib\\site-packages\\keras\\backend\\tensorflow_backend.py:4138: The name tf.random_uniform is deprecated. Please use tf.random.uniform instead.\n",
      "\n",
      "WARNING:tensorflow:From C:\\Users\\Nouman Khan\\.conda\\envs\\DataScience\\lib\\site-packages\\keras\\backend\\tensorflow_backend.py:3976: The name tf.nn.max_pool is deprecated. Please use tf.nn.max_pool2d instead.\n",
      "\n"
     ]
    }
   ],
   "source": [
    "from keras import layers\n",
    "from keras import models\n",
    "\n",
    "model = models.Sequential()\n",
    "model.add(layers.Conv2D(32, (3, 3), activation='relu', input_shape=(150, 150, 3)))\n",
    "model.add(layers.MaxPooling2D((2, 2)))\n",
    "model.add(layers.Conv2D(64, (3, 3), activation='relu'))\n",
    "model.add(layers.MaxPooling2D((2, 2)))\n",
    "model.add(layers.Conv2D(128, (3, 3), activation='relu'))\n",
    "model.add(layers.MaxPooling2D((2, 2)))\n",
    "model.add(layers.Conv2D(128, (3, 3), activation='relu'))\n",
    "model.add(layers.MaxPooling2D((2, 2)))\n",
    "model.add(layers.Flatten())\n",
    "model.add(layers.Dense(512, activation='relu'))\n",
    "model.add(layers.Dense(5, activation='softmax'))"
   ]
  },
  {
   "cell_type": "markdown",
   "metadata": {},
   "source": [
    "Let's take a look at how the dimensions of the feature maps change with every successive layer:"
   ]
  },
  {
   "cell_type": "code",
   "execution_count": 19,
   "metadata": {},
   "outputs": [
    {
     "name": "stdout",
     "output_type": "stream",
     "text": [
      "_________________________________________________________________\n",
      "Layer (type)                 Output Shape              Param #   \n",
      "=================================================================\n",
      "conv2d_1 (Conv2D)            (None, 148, 148, 32)      896       \n",
      "_________________________________________________________________\n",
      "max_pooling2d_1 (MaxPooling2 (None, 74, 74, 32)        0         \n",
      "_________________________________________________________________\n",
      "conv2d_2 (Conv2D)            (None, 72, 72, 64)        18496     \n",
      "_________________________________________________________________\n",
      "max_pooling2d_2 (MaxPooling2 (None, 36, 36, 64)        0         \n",
      "_________________________________________________________________\n",
      "conv2d_3 (Conv2D)            (None, 34, 34, 128)       73856     \n",
      "_________________________________________________________________\n",
      "max_pooling2d_3 (MaxPooling2 (None, 17, 17, 128)       0         \n",
      "_________________________________________________________________\n",
      "conv2d_4 (Conv2D)            (None, 15, 15, 128)       147584    \n",
      "_________________________________________________________________\n",
      "max_pooling2d_4 (MaxPooling2 (None, 7, 7, 128)         0         \n",
      "_________________________________________________________________\n",
      "flatten_1 (Flatten)          (None, 6272)              0         \n",
      "_________________________________________________________________\n",
      "dense_1 (Dense)              (None, 512)               3211776   \n",
      "_________________________________________________________________\n",
      "dense_2 (Dense)              (None, 5)                 2565      \n",
      "=================================================================\n",
      "Total params: 3,455,173\n",
      "Trainable params: 3,455,173\n",
      "Non-trainable params: 0\n",
      "_________________________________________________________________\n"
     ]
    }
   ],
   "source": [
    "model.summary()"
   ]
  },
  {
   "cell_type": "markdown",
   "metadata": {},
   "source": [
    "For our compilation step, we'll go with the `RMSprop` optimizer as usual. Since we ended our network with a single sigmoid unit, we will \n",
    "use binary crossentropy as our loss (as a reminder, check out the table in Chapter 4, section 5 for a cheatsheet on what loss function to \n",
    "use in various situations)."
   ]
  },
  {
   "cell_type": "code",
   "execution_count": 20,
   "metadata": {},
   "outputs": [
    {
     "name": "stdout",
     "output_type": "stream",
     "text": [
      "WARNING:tensorflow:From C:\\Users\\Nouman Khan\\.conda\\envs\\DataScience\\lib\\site-packages\\keras\\optimizers.py:790: The name tf.train.Optimizer is deprecated. Please use tf.compat.v1.train.Optimizer instead.\n",
      "\n",
      "WARNING:tensorflow:From C:\\Users\\Nouman Khan\\.conda\\envs\\DataScience\\lib\\site-packages\\keras\\backend\\tensorflow_backend.py:3295: The name tf.log is deprecated. Please use tf.math.log instead.\n",
      "\n"
     ]
    }
   ],
   "source": [
    "from keras import optimizers\n",
    "\n",
    "model.compile(loss='categorical_crossentropy',\n",
    "              optimizer=optimizers.RMSprop(lr=1e-4),\n",
    "              metrics=['acc'])"
   ]
  },
  {
   "cell_type": "markdown",
   "metadata": {},
   "source": [
    "## Data preprocessing\n",
    "\n",
    "As you already know by now, data should be formatted into appropriately pre-processed floating point tensors before being fed into our \n",
    "network. Currently, our data sits on a drive as JPEG files, so the steps for getting it into our network are roughly:\n",
    "\n",
    "* Read the picture files.\n",
    "* Decode the JPEG content to RBG grids of pixels.\n",
    "* Convert these into floating point tensors.\n",
    "* Rescale the pixel values (between 0 and 255) to the [0, 1] interval (as you know, neural networks prefer to deal with small input values).\n",
    "\n",
    "It may seem a bit daunting, but thankfully Keras has utilities to take care of these steps automatically. Keras has a module with image \n",
    "processing helper tools, located at `keras.preprocessing.image`. In particular, it contains the class `ImageDataGenerator` which allows to \n",
    "quickly set up Python generators that can automatically turn image files on disk into batches of pre-processed tensors. This is what we \n",
    "will use here."
   ]
  },
  {
   "cell_type": "code",
   "execution_count": 21,
   "metadata": {},
   "outputs": [
    {
     "name": "stdout",
     "output_type": "stream",
     "text": [
      "Found 200 images belonging to 5 classes.\n",
      "Found 75 images belonging to 5 classes.\n"
     ]
    }
   ],
   "source": [
    "from keras.preprocessing.image import ImageDataGenerator\n",
    "\n",
    "# All images will be rescaled by 1./255\n",
    "train_datagen = ImageDataGenerator(rescale=1./255)\n",
    "test_datagen = ImageDataGenerator(rescale=1./255)\n",
    "\n",
    "train_generator = train_datagen.flow_from_directory(\n",
    "        # This is the target directory\n",
    "        train_dir,\n",
    "        # All images will be resized to 150x150\n",
    "        target_size=(150, 150),\n",
    "        batch_size=20,\n",
    "        # Since we use categorical_crossentropy loss, we need categorical labels\n",
    "        class_mode='categorical')\n",
    "\n",
    "validation_generator = test_datagen.flow_from_directory(\n",
    "        validation_dir,\n",
    "        target_size=(150, 150),\n",
    "        batch_size=20,\n",
    "        class_mode='categorical')"
   ]
  },
  {
   "cell_type": "code",
   "execution_count": 22,
   "metadata": {},
   "outputs": [
    {
     "name": "stdout",
     "output_type": "stream",
     "text": [
      "WARNING:tensorflow:From C:\\Users\\Nouman Khan\\.conda\\envs\\DataScience\\lib\\site-packages\\tensorflow_core\\python\\ops\\math_grad.py:1424: where (from tensorflow.python.ops.array_ops) is deprecated and will be removed in a future version.\n",
      "Instructions for updating:\n",
      "Use tf.where in 2.0, which has the same broadcast rule as np.where\n",
      "WARNING:tensorflow:From C:\\Users\\Nouman Khan\\.conda\\envs\\DataScience\\lib\\site-packages\\keras\\backend\\tensorflow_backend.py:986: The name tf.assign_add is deprecated. Please use tf.compat.v1.assign_add instead.\n",
      "\n",
      "WARNING:tensorflow:From C:\\Users\\Nouman Khan\\.conda\\envs\\DataScience\\lib\\site-packages\\keras\\backend\\tensorflow_backend.py:973: The name tf.assign is deprecated. Please use tf.compat.v1.assign instead.\n",
      "\n",
      "WARNING:tensorflow:From C:\\Users\\Nouman Khan\\.conda\\envs\\DataScience\\lib\\site-packages\\keras\\backend\\tensorflow_backend.py:2741: The name tf.Session is deprecated. Please use tf.compat.v1.Session instead.\n",
      "\n",
      "Epoch 1/5\n",
      "WARNING:tensorflow:From C:\\Users\\Nouman Khan\\.conda\\envs\\DataScience\\lib\\site-packages\\keras\\backend\\tensorflow_backend.py:174: The name tf.get_default_session is deprecated. Please use tf.compat.v1.get_default_session instead.\n",
      "\n",
      "WARNING:tensorflow:From C:\\Users\\Nouman Khan\\.conda\\envs\\DataScience\\lib\\site-packages\\keras\\backend\\tensorflow_backend.py:181: The name tf.ConfigProto is deprecated. Please use tf.compat.v1.ConfigProto instead.\n",
      "\n",
      "WARNING:tensorflow:From C:\\Users\\Nouman Khan\\.conda\\envs\\DataScience\\lib\\site-packages\\keras\\backend\\tensorflow_backend.py:190: The name tf.global_variables is deprecated. Please use tf.compat.v1.global_variables instead.\n",
      "\n",
      "WARNING:tensorflow:From C:\\Users\\Nouman Khan\\.conda\\envs\\DataScience\\lib\\site-packages\\keras\\backend\\tensorflow_backend.py:199: The name tf.is_variable_initialized is deprecated. Please use tf.compat.v1.is_variable_initialized instead.\n",
      "\n",
      "WARNING:tensorflow:From C:\\Users\\Nouman Khan\\.conda\\envs\\DataScience\\lib\\site-packages\\keras\\backend\\tensorflow_backend.py:206: The name tf.variables_initializer is deprecated. Please use tf.compat.v1.variables_initializer instead.\n",
      "\n",
      "10/10 [==============================] - 15s 2s/step - loss: 1.1444 - acc: 0.7500 - val_loss: 0.6470 - val_acc: 1.0000\n",
      "Epoch 2/5\n",
      "10/10 [==============================] - 9s 944ms/step - loss: 0.2758 - acc: 0.9300 - val_loss: 0.2455 - val_acc: 0.9579\n",
      "Epoch 3/5\n",
      "10/10 [==============================] - 13s 1s/step - loss: 0.0782 - acc: 0.9850 - val_loss: 0.1107 - val_acc: 1.0000\n",
      "Epoch 4/5\n",
      "10/10 [==============================] - 10s 962ms/step - loss: 0.0241 - acc: 1.0000 - val_loss: 0.0756 - val_acc: 1.0000\n",
      "Epoch 5/5\n",
      "10/10 [==============================] - 12s 1s/step - loss: 0.0093 - acc: 1.0000 - val_loss: 0.0492 - val_acc: 1.0000\n"
     ]
    }
   ],
   "source": [
    "history = model.fit_generator(\n",
    "      train_generator,\n",
    "      steps_per_epoch=10,\n",
    "      epochs=5,\n",
    "      validation_data=validation_generator,\n",
    "      validation_steps=5)"
   ]
  },
  {
   "cell_type": "markdown",
   "metadata": {
    "collapsed": true
   },
   "source": [
    "It is good practice to always save your models after training:"
   ]
  },
  {
   "cell_type": "code",
   "execution_count": 23,
   "metadata": {},
   "outputs": [],
   "source": [
    "model.save('small.h5')"
   ]
  },
  {
   "cell_type": "markdown",
   "metadata": {},
   "source": [
    "Let's plot the loss and accuracy of the model over the training and validation data during training:"
   ]
  },
  {
   "cell_type": "code",
   "execution_count": 24,
   "metadata": {},
   "outputs": [
    {
     "data": {
      "image/png": "[encoded data removed]",
      "text/plain": [
       "<Figure size 432x288 with 1 Axes>"
      ]
     },
     "metadata": {
      "needs_background": "light"
     },
     "output_type": "display_data"
    },
    {
     "data": {
      "image/png": "[encoded data removed]",
      "text/plain": [
       "<Figure size 432x288 with 1 Axes>"
      ]
     },
     "metadata": {
      "needs_background": "light"
     },
     "output_type": "display_data"
    }
   ],
   "source": [
    "import matplotlib.pyplot as plt\n",
    "\n",
    "acc = history.history['acc']\n",
    "val_acc = history.history['val_acc']\n",
    "loss = history.history['loss']\n",
    "val_loss = history.history['val_loss']\n",
    "\n",
    "epochs = range(len(acc))\n",
    "\n",
    "plt.plot(epochs, acc, 'bo', label='Training acc')\n",
    "plt.plot(epochs, val_acc, 'b', label='Validation acc')\n",
    "plt.title('Training and validation accuracy')\n",
    "plt.legend()\n",
    "\n",
    "plt.figure()\n",
    "\n",
    "plt.plot(epochs, loss, 'bo', label='Training loss')\n",
    "plt.plot(epochs, val_loss, 'b', label='Validation loss')\n",
    "plt.title('Training and validation loss')\n",
    "plt.legend()\n",
    "\n",
    "plt.show()"
   ]
  },
  {
   "cell_type": "code",
   "execution_count": 25,
   "metadata": {},
   "outputs": [
    {
     "data": {
      "text/plain": [
       "array([[0., 0., 0., 1., 0.]], dtype=float32)"
      ]
     },
     "execution_count": 25,
     "metadata": {},
     "output_type": "execute_result"
    }
   ],
   "source": [
    "\n",
    "import numpy as np\n",
    "from keras.preprocessing import image\n",
    "\n",
    "\n",
    "\n",
    "img_width, img_height = 150, 150\n",
    "test_image_path='C:/Users/Nouman Khan/coil-20-unproc/prepared/test/obj4/obj4__56.png'\n",
    "img = image.load_img(test_image_path, target_size = (img_width, img_height))\n",
    "img = image.img_to_array(img)\n",
    "img = np.expand_dims(img, axis = 0)\n",
    "\n",
    "model.predict(img)\n",
    "\n",
    "\n",
    "\n"
   ]
  },
  {
   "cell_type": "code",
   "execution_count": 26,
   "metadata": {},
   "outputs": [
    {
     "data": {
      "image/png": "[encoded data removed]",
      "text/plain": [
       "<Figure size 432x288 with 1 Axes>"
      ]
     },
     "metadata": {
      "needs_background": "light"
     },
     "output_type": "display_data"
    }
   ],
   "source": [
    "import matplotlib.pyplot as plt\n",
    "import matplotlib.image as mpimg\n",
    "img=mpimg.imread(test_image_path)\n",
    "imgplot = plt.imshow(img)\n",
    "plt.show()"
   ]
  },
  {
   "cell_type": "code",
   "execution_count": null,
   "metadata": {},
   "outputs": [],
   "source": []
  },
  {
   "cell_type": "code",
   "execution_count": null,
   "metadata": {},
   "outputs": [],
   "source": []
  }
 ],
 "metadata": {
  "kernelspec": {
   "display_name": "Python 3",
   "language": "python",
   "name": "python3"
  },
  "language_info": {
   "codemirror_mode": {
    "name": "ipython",
    "version": 3
   },
   "file_extension": ".py",
   "mimetype": "text/x-python",
   "name": "python",
   "nbconvert_exporter": "python",
   "pygments_lexer": "ipython3",
   "version": "3.7.6"
  }
 },
 "nbformat": 4,
 "nbformat_minor": 2
}
